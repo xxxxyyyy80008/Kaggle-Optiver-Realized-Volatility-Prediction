{
 "cells": [
  {
   "cell_type": "code",
   "execution_count": null,
   "id": "28398793",
   "metadata": {},
   "outputs": [],
   "source": [
    "import pandas as pd\n",
    "import numpy as np\n",
    "import os\n",
    "from datetime import date, datetime, timedelta\n",
    "from pathlib import Path\n",
    "\n",
    "import copy\n",
    "import pyarrow.parquet as pq"
   ]
  },
  {
   "cell_type": "markdown",
   "id": "05ccfd9a",
   "metadata": {},
   "source": [
    "## define data paths"
   ]
  },
  {
   "cell_type": "code",
   "execution_count": null,
   "id": "755cca90",
   "metadata": {},
   "outputs": [],
   "source": [
    "data_path = Path('../data')\n",
    "data_path.exists()"
   ]
  },
  {
   "cell_type": "code",
   "execution_count": null,
   "id": "0a9fbc71",
   "metadata": {},
   "outputs": [],
   "source": [
    "train_book_path = data_path.joinpath('book_train.parquet')\n",
    "book_train_sub = next(os.walk(train_book_path))[1]\n",
    "print(len(book_train_sub), train_book_path.exists())"
   ]
  },
  {
   "cell_type": "code",
   "execution_count": null,
   "id": "3a548508",
   "metadata": {},
   "outputs": [],
   "source": [
    "test_book_path = data_path.joinpath('book_test.parquet')\n",
    "book_test_sub = next(os.walk(test_book_path))[1]\n",
    "print(len(book_test_sub), test_book_path.exists())"
   ]
  },
  {
   "cell_type": "code",
   "execution_count": null,
   "id": "572fc81f",
   "metadata": {},
   "outputs": [],
   "source": [
    "train_trade_path = data_path.joinpath('trade_train.parquet')\n",
    "trade_train_sub = next(os.walk(train_trade_path))[1]\n",
    "print(len(trade_train_sub), train_trade_path.exists())"
   ]
  },
  {
   "cell_type": "code",
   "execution_count": null,
   "id": "65022b4f",
   "metadata": {},
   "outputs": [],
   "source": [
    "test_trade_path = data_path.joinpath('trade_test.parquet')\n",
    "trade_test_sub = next(os.walk(test_trade_path))[1]\n",
    "print(len(trade_test_sub), test_trade_path.exists())"
   ]
  },
  {
   "cell_type": "markdown",
   "id": "ca655b08",
   "metadata": {},
   "source": [
    "### define functions"
   ]
  },
  {
   "cell_type": "code",
   "execution_count": null,
   "id": "b257d6a1",
   "metadata": {},
   "outputs": [],
   "source": [
    "#setups\n",
    "final_feats = [  'wap__absolute_sum_of_changes',\n",
    "                 'wap__fft_aggregated__aggtype_\"variance\"',\n",
    "                 'wap__spkt_welch_density__coeff_5',\n",
    "                 'wap__spkt_welch_density__coeff_8',\n",
    "                 'wap__change_quantiles__f_agg_\"var\"__isabs_True__qh_1.0__ql_0.2',\n",
    "                 'price__variation_coefficient',\n",
    "                 'price__mean_abs_change',\n",
    "                 'price__change_quantiles__f_agg_\"mean\"__isabs_True__qh_0.8__ql_0.6',\n",
    "                 'price__change_quantiles__f_agg_\"var\"__isabs_True__qh_1.0__ql_0.6',\n",
    "                 'price__absolute_sum_of_changes',\n",
    "              ] \n",
    "\n",
    "rename_dict={'wap__absolute_sum_of_changes': 'feat1',\n",
    " 'wap__fft_aggregated__aggtype_\"variance\"': 'feat2',\n",
    " 'wap__spkt_welch_density__coeff_5': 'feat3',\n",
    " 'wap__spkt_welch_density__coeff_8': 'feat4',\n",
    " 'wap__change_quantiles__f_agg_\"var\"__isabs_True__qh_1.0__ql_0.2': 'feat5',\n",
    " 'price__variation_coefficient': 'feat6',\n",
    " 'price__mean_abs_change': 'feat7',\n",
    " 'price__change_quantiles__f_agg_\"mean\"__isabs_True__qh_0.8__ql_0.6': 'feat8',\n",
    " 'price__change_quantiles__f_agg_\"var\"__isabs_True__qh_1.0__ql_0.6': 'feat9',\n",
    " 'price__absolute_sum_of_changes': 'feat10'}\n",
    "\n",
    "high_corr_list=[10, 11, 13, 14, 15, 23, 29, 32, 35, 42, 43, 50, 52, 62, 69, 70, 72, 73, 76, 87, 93, 95, 101, 108, 109, 119, 122, 126]\n",
    "low_corr_list=[2, 13, 19, 20, 21, 29, 30, 34, 39, 41, 43, 46, 47, 53, 58, 64, 67, 68, 69, 80, 81, 99, 110]\n"
   ]
  },
  {
   "cell_type": "code",
   "execution_count": null,
   "id": "6ec8a483",
   "metadata": {},
   "outputs": [],
   "source": [
    "#---full data frame\n",
    "def cal_wap(df_raw):\n",
    "    return ((df_raw['bid_price1'] * df_raw['ask_size1'] +\n",
    "                    df_raw['ask_price1'] * df_raw['bid_size1']) / (\n",
    "                                           df_raw['bid_size1']+ df_raw['ask_size1'])).values"
   ]
  },
  {
   "cell_type": "code",
   "execution_count": null,
   "id": "a3234558",
   "metadata": {},
   "outputs": [],
   "source": [
    "#get tsfresh features\n",
    "def cal_features(stock_id, book_path, trade_path):\n",
    "    #book features\n",
    "    df_book= pq.read_table(book_path.joinpath(f'stock_id={stock_id}')).to_pandas()\n",
    "    df_book['wap']=cal_wap(df_book)\n",
    "    \n",
    "    df_trade= pq.read_table(trade_path.joinpath(f'stock_id={stock_id}')).to_pandas()\n",
    "    \n",
    "    val_list = []\n",
    "    for time_id in df_book['time_id'].unique().tolist():  \n",
    "        f1, f2, f3, f4, f5, f6, f7, f8, f9, f10 = [np.nan]*10\n",
    "        \n",
    "        values = df_book.loc[df_book['time_id']==time_id, 'wap'].values\n",
    "        if len(values)>0:\n",
    "            f1=feature_calculators.absolute_sum_of_changes(values)\n",
    "            f2=feature_calculators.fft_aggregated(values, param=[{\"aggtype\" : \"variance\"}])\n",
    "            f2=list(f2)[0][1]\n",
    "            f3=feature_calculators.spkt_welch_density(values, param=[{\"coeff\": 5}])\n",
    "            f3=list(f3)[0][1]\n",
    "            f4=feature_calculators.spkt_welch_density(values, param=[{\"coeff\": 8}])\n",
    "            f4=list(f4)[0][1]\n",
    "            f5=feature_calculators.change_quantiles(values, **{'f_agg':'var', 'isabs':True, 'qh':1.0, 'ql':0.2 })\n",
    "\n",
    "\n",
    "        values = df_trade.loc[df_trade['time_id']==time_id, 'price'].values\n",
    "        \n",
    "        if len(values)>0:\n",
    "            f6=feature_calculators.variation_coefficient(values)\n",
    "            f7=feature_calculators.mean_abs_change(values)\n",
    "            f8=feature_calculators.change_quantiles(values, **{'f_agg':'mean', 'isabs':True, 'qh':0.8, 'ql':0.6 })\n",
    "            f9=feature_calculators.change_quantiles(values, **{'f_agg':'var', 'isabs':True, 'qh':1.0, 'ql':0.6 })\n",
    "            f10=feature_calculators.absolute_sum_of_changes(values)\n",
    "\n",
    "        item = [stock_id, time_id, f1, f2, f3, f4, f5, f6, f7, f8, f9, f10]\n",
    "        val_list.append(item)\n",
    "        \n",
    "    return val_list"
   ]
  },
  {
   "cell_type": "markdown",
   "id": "b8f93b9c",
   "metadata": {},
   "source": [
    "### prepare train data"
   ]
  },
  {
   "cell_type": "code",
   "execution_count": null,
   "id": "85666330",
   "metadata": {},
   "outputs": [],
   "source": [
    "all_list=[]\n",
    "for stock_id in low_corr_list:\n",
    "    cur_list=cal_features(stock_id, train_book_path, train_trade_path)\n",
    "    all_list.extend(cur_list)"
   ]
  },
  {
   "cell_type": "code",
   "execution_count": null,
   "id": "f58a20f7",
   "metadata": {},
   "outputs": [],
   "source": [
    "df_X = pd.DataFrame(data=all_list, columns=['stock_id', 'time_id']+final_feats)"
   ]
  },
  {
   "cell_type": "code",
   "execution_count": null,
   "id": "d00e221e",
   "metadata": {},
   "outputs": [],
   "source": [
    "df_train = pd.read_csv('../data/train.csv')"
   ]
  },
  {
   "cell_type": "code",
   "execution_count": null,
   "id": "7a36506c",
   "metadata": {},
   "outputs": [],
   "source": [
    "print(df_train.shape, df_X.shape)\n",
    "df_train = df_train.merge(df_X, on=['stock_id', 'time_id'], how='inner')\n",
    "print(df_train.shape)\n",
    "df_train.dropna(how='any', inplace=True)\n",
    "print(df_train.shape)"
   ]
  },
  {
   "cell_type": "markdown",
   "id": "6d9af432",
   "metadata": {},
   "source": [
    "## prepare test data"
   ]
  },
  {
   "cell_type": "code",
   "execution_count": null,
   "id": "08194dbb",
   "metadata": {},
   "outputs": [],
   "source": [
    "df_test = pd.read_csv('../data/test.csv')"
   ]
  },
  {
   "cell_type": "code",
   "execution_count": null,
   "id": "fbb28934",
   "metadata": {},
   "outputs": [],
   "source": [
    "df_test"
   ]
  },
  {
   "cell_type": "code",
   "execution_count": null,
   "id": "65f572a3",
   "metadata": {},
   "outputs": [],
   "source": [
    "test_list=[]\n",
    "for stock_id in df_test['stock_id'].unique().tolist():\n",
    "    if (f'stock_id={stock_id}' in trade_test_sub) & (f'stock_id={stock_id}'in book_test_sub):\n",
    "        cur_list=cal_features(stock_id, test_book_path, test_trade_path)\n",
    "        test_list.extend(cur_list)\n",
    "        \n",
    "X_test = pd.DataFrame(data=test_list, columns=['stock_id', 'time_id']+final_feats)"
   ]
  },
  {
   "cell_type": "code",
   "execution_count": null,
   "id": "e8931f40",
   "metadata": {},
   "outputs": [],
   "source": [
    "print(df_test.shape)\n",
    "df_test = df_test.merge(X_test, on=['stock_id', 'time_id'], how='inner')\n",
    "print(df_test.shape)"
   ]
  },
  {
   "cell_type": "markdown",
   "id": "dfea066a",
   "metadata": {},
   "source": [
    "## preprocessing data"
   ]
  },
  {
   "cell_type": "code",
   "execution_count": null,
   "id": "8648c042",
   "metadata": {},
   "outputs": [],
   "source": [
    "def impute_test_data(X_train, X_test, features):\n",
    "    for feat in features:\n",
    "        if X_test[feat].isna().sum()>0:\n",
    "            X_test[feat].fillna(value=X_train[feat].mean(), inplace=True)\n",
    "    return X_test"
   ]
  },
  {
   "cell_type": "code",
   "execution_count": null,
   "id": "7dda6813",
   "metadata": {},
   "outputs": [],
   "source": [
    "def scale_data(X_train, X_test, features, scaler=5):\n",
    "    for i in range(0, len(features)):\n",
    "        col=features[i]\n",
    "\n",
    "        avg = X_train[col].mean()\n",
    "        std = X_train[col].std()\n",
    "        X_train.loc[X_train[col]>avg+scaler*std, col] = avg+scaler*std\n",
    "        X_train.loc[X_train[col]<avg-scaler*std, col] = avg-scaler*std\n",
    "        X_test.loc[X_test[col]>avg+scaler*std, col] = avg+scaler*std\n",
    "        X_test.loc[X_test[col]<avg-scaler*std, col] = avg-scaler*std\n",
    "        \n",
    "    return X_train, X_test"
   ]
  },
  {
   "cell_type": "code",
   "execution_count": null,
   "id": "23e0456e",
   "metadata": {},
   "outputs": [],
   "source": [
    "df_train.set_index(keys=['stock_id', 'time_id'], inplace=True)\n",
    "df_test.set_index(keys=['stock_id', 'time_id'], inplace=True)"
   ]
  },
  {
   "cell_type": "code",
   "execution_count": null,
   "id": "514dd25d",
   "metadata": {},
   "outputs": [],
   "source": []
  },
  {
   "cell_type": "code",
   "execution_count": null,
   "id": "32ef0906",
   "metadata": {},
   "outputs": [],
   "source": [
    "X_test = impute_test_data(df_train[final_feats], df_test[final_feats].copy(deep=True), final_feats)"
   ]
  },
  {
   "cell_type": "code",
   "execution_count": null,
   "id": "e58f024f",
   "metadata": {},
   "outputs": [],
   "source": [
    "X_train, X_test = scale_data(df_train[final_feats], X_test[final_feats], final_feats, scaler=5)"
   ]
  },
  {
   "cell_type": "code",
   "execution_count": null,
   "id": "317eef49",
   "metadata": {},
   "outputs": [],
   "source": [
    "X_train.rename(columns=rename_dict, inplace=True)\n",
    "X_test.rename(columns=rename_dict, inplace=True)"
   ]
  },
  {
   "cell_type": "code",
   "execution_count": null,
   "id": "f4996495",
   "metadata": {},
   "outputs": [],
   "source": [
    "y_train = np.log(df_train[['target']])"
   ]
  },
  {
   "cell_type": "markdown",
   "id": "e6c50566",
   "metadata": {},
   "source": [
    "## make models"
   ]
  },
  {
   "cell_type": "code",
   "execution_count": null,
   "id": "c72dcf78",
   "metadata": {},
   "outputs": [],
   "source": [
    "import lightgbm as lgb\n",
    "def make_lgb_preds(X_train, y_train,X_test, num_round=100, params={}, verbose=False):\n",
    "    \n",
    "    dtrain = lgb.Dataset(X_train, y_train)\n",
    "    tree_model = lgb.train(params,\n",
    "                dtrain,\n",
    "                num_boost_round=num_round,\n",
    "                verbose_eval=verbose)\n",
    "    \n",
    "    y_preds = tree_model.predict(X_test, num_iteration=tree_model.best_iteration)\n",
    "    scores = tree_model.feature_importance(importance_type='gain', iteration=tree_model.best_iteration)\n",
    "    df_scores = pd.DataFrame({'feature':list(X_train.columns), 'gain': list(scores)})\n",
    "\n",
    "    return y_preds, df_scores, tree_model"
   ]
  },
  {
   "cell_type": "code",
   "execution_count": null,
   "id": "23ae9a9f",
   "metadata": {},
   "outputs": [],
   "source": [
    "params_list=[{'bagging_fraction': 0.78, 'bagging_freq': 56, 'boosting': 'gbdt', 'feature_fraction': 0.69, 'lambda_l1': 6, 'lambda_l2': 6, 'learning_rate': 0.01, 'max_bin': 260, 'max_depth': 11, 'max_leaves': 160, 'metric': 'mae', 'min_data_in_bin': 73, 'min_data_in_leaf': 61, 'nthread': 4, 'num_boost_round': 744, 'objective': 'regression_l2', 'seed': 1234},\n",
    "]"
   ]
  },
  {
   "cell_type": "code",
   "execution_count": null,
   "id": "8c9ed846",
   "metadata": {},
   "outputs": [],
   "source": [
    "params = copy.deepcopy(params_list[0])"
   ]
  },
  {
   "cell_type": "code",
   "execution_count": null,
   "id": "ed7be43e",
   "metadata": {},
   "outputs": [],
   "source": [
    "num_boost_round = params['num_boost_round']\n",
    "\n",
    "del params['num_boost_round']\n",
    "params['verbose']=-1"
   ]
  },
  {
   "cell_type": "code",
   "execution_count": null,
   "id": "8a4f3905",
   "metadata": {},
   "outputs": [],
   "source": [
    "y_preds, df_scores, tree_model = make_lgb_preds(X_train, y_train,X_test, \n",
    "                                                num_round=num_boost_round, params=params, verbose=False)"
   ]
  },
  {
   "cell_type": "code",
   "execution_count": null,
   "id": "4ea45941",
   "metadata": {},
   "outputs": [],
   "source": [
    "df_test['pred']=y_preds"
   ]
  },
  {
   "cell_type": "code",
   "execution_count": null,
   "id": "4218e129",
   "metadata": {},
   "outputs": [],
   "source": [
    "df_test['target']=np.exp(df_test['pred'])"
   ]
  },
  {
   "cell_type": "code",
   "execution_count": null,
   "id": "2361c87c",
   "metadata": {},
   "outputs": [],
   "source": [
    "df_test[['row_id', 'target']].to_csv('submission.csv',index = False)"
   ]
  },
  {
   "cell_type": "code",
   "execution_count": null,
   "id": "be5d7765",
   "metadata": {},
   "outputs": [],
   "source": []
  }
 ],
 "metadata": {
  "kernelspec": {
   "display_name": "Python 3",
   "language": "python",
   "name": "python3"
  },
  "language_info": {
   "codemirror_mode": {
    "name": "ipython",
    "version": 3
   },
   "file_extension": ".py",
   "mimetype": "text/x-python",
   "name": "python",
   "nbconvert_exporter": "python",
   "pygments_lexer": "ipython3",
   "version": "3.6.8"
  }
 },
 "nbformat": 4,
 "nbformat_minor": 5
}
