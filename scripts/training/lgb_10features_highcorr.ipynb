{
 "cells": [
  {
   "cell_type": "code",
   "execution_count": 1,
   "metadata": {},
   "outputs": [],
   "source": [
    "import sys\n",
    "import os\n",
    "from pathlib import Path\n",
    "\n",
    "\n",
    "import numpy as np\n",
    "import pandas as pd\n",
    "import json\n",
    "import copy\n",
    "import joblib\n",
    "from datetime import datetime, date, timedelta\n",
    "import random as rn"
   ]
  },
  {
   "cell_type": "code",
   "execution_count": 2,
   "metadata": {},
   "outputs": [],
   "source": [
    "seed = 1234\n",
    "np.random.seed(seed)\n",
    "rn.seed(seed)"
   ]
  },
  {
   "cell_type": "markdown",
   "metadata": {},
   "source": [
    "## load data"
   ]
  },
  {
   "cell_type": "code",
   "execution_count": 3,
   "metadata": {},
   "outputs": [],
   "source": [
    "df_all = pd.read_csv('../../data/y_1/10features_highcorr', sep='|', compression='bz2')"
   ]
  },
  {
   "cell_type": "code",
   "execution_count": 4,
   "metadata": {},
   "outputs": [],
   "source": [
    "from train_setup import *"
   ]
  },
  {
   "cell_type": "code",
   "execution_count": 5,
   "metadata": {},
   "outputs": [
    {
     "data": {
      "text/plain": [
       "3830"
      ]
     },
     "execution_count": 5,
     "metadata": {},
     "output_type": "execute_result"
    }
   ],
   "source": [
    "time_list = df_all['time_id'].unique().tolist()\n",
    "len(time_list)"
   ]
  },
  {
   "cell_type": "code",
   "execution_count": 6,
   "metadata": {},
   "outputs": [
    {
     "data": {
      "text/plain": [
       "(2681, 1149)"
      ]
     },
     "execution_count": 6,
     "metadata": {},
     "output_type": "execute_result"
    }
   ],
   "source": [
    "all_train = list(set(time_list) - set(all_test))\n",
    "len(all_train), len(all_test)"
   ]
  },
  {
   "cell_type": "code",
   "execution_count": 7,
   "metadata": {},
   "outputs": [],
   "source": [
    "k1_train = list(set(all_train)-set(k1_test))\n",
    "k2_train = list(set(all_train)-set(k2_test))\n",
    "k3_train = list(set(all_train)-set(k3_test))"
   ]
  },
  {
   "cell_type": "code",
   "execution_count": 8,
   "metadata": {},
   "outputs": [
    {
     "data": {
      "text/plain": [
       "(1786, 895)"
      ]
     },
     "execution_count": 8,
     "metadata": {},
     "output_type": "execute_result"
    }
   ],
   "source": [
    "len(k1_train), len(k1_test)"
   ]
  },
  {
   "cell_type": "code",
   "execution_count": 9,
   "metadata": {},
   "outputs": [
    {
     "data": {
      "text/plain": [
       "(1786, 895)"
      ]
     },
     "execution_count": 9,
     "metadata": {},
     "output_type": "execute_result"
    }
   ],
   "source": [
    "len(k2_train), len(k2_test)"
   ]
  },
  {
   "cell_type": "code",
   "execution_count": 10,
   "metadata": {},
   "outputs": [
    {
     "data": {
      "text/plain": [
       "(1790, 891)"
      ]
     },
     "execution_count": 10,
     "metadata": {},
     "output_type": "execute_result"
    }
   ],
   "source": [
    "len(k3_train), len(k3_test)"
   ]
  },
  {
   "cell_type": "code",
   "execution_count": 11,
   "metadata": {},
   "outputs": [
    {
     "data": {
      "text/plain": [
       "(1149, 2681)"
      ]
     },
     "execution_count": 11,
     "metadata": {},
     "output_type": "execute_result"
    }
   ],
   "source": [
    "len(all_test), len(all_train)"
   ]
  },
  {
   "cell_type": "code",
   "execution_count": 12,
   "metadata": {},
   "outputs": [
    {
     "data": {
      "text/html": [
       "<div>\n",
       "<style scoped>\n",
       "    .dataframe tbody tr th:only-of-type {\n",
       "        vertical-align: middle;\n",
       "    }\n",
       "\n",
       "    .dataframe tbody tr th {\n",
       "        vertical-align: top;\n",
       "    }\n",
       "\n",
       "    .dataframe thead th {\n",
       "        text-align: right;\n",
       "    }\n",
       "</style>\n",
       "<table border=\"1\" class=\"dataframe\">\n",
       "  <thead>\n",
       "    <tr style=\"text-align: right;\">\n",
       "      <th></th>\n",
       "      <th>stock_id</th>\n",
       "      <th>time_id</th>\n",
       "      <th>target</th>\n",
       "      <th>feat2</th>\n",
       "      <th>feat4</th>\n",
       "      <th>feat3</th>\n",
       "      <th>feat1</th>\n",
       "      <th>feat5</th>\n",
       "      <th>feat7</th>\n",
       "      <th>feat6</th>\n",
       "      <th>feat10</th>\n",
       "      <th>feat9</th>\n",
       "      <th>feat8</th>\n",
       "    </tr>\n",
       "  </thead>\n",
       "  <tbody>\n",
       "    <tr>\n",
       "      <th>0</th>\n",
       "      <td>10</td>\n",
       "      <td>5</td>\n",
       "      <td>0.005707</td>\n",
       "      <td>32.129649</td>\n",
       "      <td>1.615488e-06</td>\n",
       "      <td>1.506574e-06</td>\n",
       "      <td>0.067520</td>\n",
       "      <td>3.742911e-08</td>\n",
       "      <td>0.000251</td>\n",
       "      <td>0.001498</td>\n",
       "      <td>0.032589</td>\n",
       "      <td>2.437217e-08</td>\n",
       "      <td>0.000235</td>\n",
       "    </tr>\n",
       "    <tr>\n",
       "      <th>1</th>\n",
       "      <td>10</td>\n",
       "      <td>11</td>\n",
       "      <td>0.002352</td>\n",
       "      <td>14.945725</td>\n",
       "      <td>5.106436e-07</td>\n",
       "      <td>8.760800e-07</td>\n",
       "      <td>0.025758</td>\n",
       "      <td>9.011863e-09</td>\n",
       "      <td>0.000183</td>\n",
       "      <td>0.000572</td>\n",
       "      <td>0.011695</td>\n",
       "      <td>3.116339e-08</td>\n",
       "      <td>0.000092</td>\n",
       "    </tr>\n",
       "    <tr>\n",
       "      <th>2</th>\n",
       "      <td>10</td>\n",
       "      <td>16</td>\n",
       "      <td>0.002363</td>\n",
       "      <td>16.465052</td>\n",
       "      <td>5.771389e-07</td>\n",
       "      <td>1.094694e-06</td>\n",
       "      <td>0.032526</td>\n",
       "      <td>5.995926e-09</td>\n",
       "      <td>0.000119</td>\n",
       "      <td>0.000504</td>\n",
       "      <td>0.015767</td>\n",
       "      <td>7.797306e-09</td>\n",
       "      <td>0.000073</td>\n",
       "    </tr>\n",
       "    <tr>\n",
       "      <th>3</th>\n",
       "      <td>10</td>\n",
       "      <td>31</td>\n",
       "      <td>0.002341</td>\n",
       "      <td>13.611053</td>\n",
       "      <td>3.194603e-07</td>\n",
       "      <td>4.466166e-07</td>\n",
       "      <td>0.023954</td>\n",
       "      <td>4.897508e-09</td>\n",
       "      <td>0.000145</td>\n",
       "      <td>0.000283</td>\n",
       "      <td>0.006837</td>\n",
       "      <td>1.096359e-08</td>\n",
       "      <td>0.000030</td>\n",
       "    </tr>\n",
       "    <tr>\n",
       "      <th>4</th>\n",
       "      <td>10</td>\n",
       "      <td>62</td>\n",
       "      <td>0.002007</td>\n",
       "      <td>19.345593</td>\n",
       "      <td>8.181982e-08</td>\n",
       "      <td>2.017322e-06</td>\n",
       "      <td>0.015245</td>\n",
       "      <td>2.826773e-09</td>\n",
       "      <td>0.000121</td>\n",
       "      <td>0.000649</td>\n",
       "      <td>0.007876</td>\n",
       "      <td>5.349363e-09</td>\n",
       "      <td>0.000082</td>\n",
       "    </tr>\n",
       "  </tbody>\n",
       "</table>\n",
       "</div>"
      ],
      "text/plain": [
       "   stock_id  time_id    target      feat2         feat4         feat3  \\\n",
       "0        10        5  0.005707  32.129649  1.615488e-06  1.506574e-06   \n",
       "1        10       11  0.002352  14.945725  5.106436e-07  8.760800e-07   \n",
       "2        10       16  0.002363  16.465052  5.771389e-07  1.094694e-06   \n",
       "3        10       31  0.002341  13.611053  3.194603e-07  4.466166e-07   \n",
       "4        10       62  0.002007  19.345593  8.181982e-08  2.017322e-06   \n",
       "\n",
       "      feat1         feat5     feat7     feat6    feat10         feat9  \\\n",
       "0  0.067520  3.742911e-08  0.000251  0.001498  0.032589  2.437217e-08   \n",
       "1  0.025758  9.011863e-09  0.000183  0.000572  0.011695  3.116339e-08   \n",
       "2  0.032526  5.995926e-09  0.000119  0.000504  0.015767  7.797306e-09   \n",
       "3  0.023954  4.897508e-09  0.000145  0.000283  0.006837  1.096359e-08   \n",
       "4  0.015245  2.826773e-09  0.000121  0.000649  0.007876  5.349363e-09   \n",
       "\n",
       "      feat8  \n",
       "0  0.000235  \n",
       "1  0.000092  \n",
       "2  0.000073  \n",
       "3  0.000030  \n",
       "4  0.000082  "
      ]
     },
     "execution_count": 12,
     "metadata": {},
     "output_type": "execute_result"
    }
   ],
   "source": [
    "rename_map = {}\n",
    "for i, col in enumerate(final_feats):\n",
    "    rename_map[col]=f'feat{i+1}'\n",
    "    \n",
    "df_all.rename(columns=rename_map, inplace=True)\n",
    "df_all.head()"
   ]
  },
  {
   "cell_type": "code",
   "execution_count": 13,
   "metadata": {},
   "outputs": [],
   "source": [
    "kfold_list_ = [[df_all[df_all['time_id'].isin(k1_train)], df_all[df_all['time_id'].isin(k1_test)], ], \n",
    "              [df_all[df_all['time_id'].isin(k2_train)], df_all[df_all['time_id'].isin(k2_test)], ], \n",
    "              [df_all[df_all['time_id'].isin(k3_train)], df_all[df_all['time_id'].isin(k3_test)], ], \n",
    "             ]"
   ]
  },
  {
   "cell_type": "code",
   "execution_count": 14,
   "metadata": {},
   "outputs": [],
   "source": [
    "features = ['feat1', 'feat2', 'feat3', 'feat4', 'feat5', 'feat6', 'feat7', 'feat8', 'feat9', 'feat10']"
   ]
  },
  {
   "cell_type": "code",
   "execution_count": 15,
   "metadata": {},
   "outputs": [
    {
     "name": "stdout",
     "output_type": "stream",
     "text": [
      "(50008, 13) (25060, 13)\n",
      "(50008, 13) (25060, 13)\n",
      "(50120, 13) (24948, 13)\n"
     ]
    }
   ],
   "source": [
    "scaler=5\n",
    "kfold_list = []\n",
    "for df_train_, df_test_ in kfold_list_:\n",
    "    print(df_train_.shape, df_test_.shape)\n",
    "    df_train = df_train_.copy(deep=True)\n",
    "    df_test = df_test_.copy(deep=True)\n",
    "    \n",
    "    df_train.set_index(keys=['stock_id', 'time_id'], inplace=True)\n",
    "    df_test.set_index(keys=['stock_id', 'time_id'], inplace=True)\n",
    " \n",
    "\n",
    "    for i in range(1, len(final_feats)+1):\n",
    "        col=f'feat{i}'\n",
    "\n",
    "        avg = df_train[col].mean()\n",
    "        std = df_train[col].std()\n",
    "        df_train[df_train[col]>avg+scaler*std] = avg+scaler*std\n",
    "        df_train[df_train[col]<avg-scaler*std] = avg-scaler*std\n",
    "        df_test[df_test[col]>avg+scaler*std] = avg+scaler*std\n",
    "        df_test[df_test[col]<avg-scaler*std] = avg-scaler*std\n",
    "        \n",
    "        \n",
    "    X_train=df_train[features].copy(deep=True)\n",
    "    y_train = df_train[['target']].copy(deep=True)\n",
    "    y_train['target']=np.log(df_train_['target'].values)\n",
    "    \n",
    "    X_test=df_test[features].copy(deep=True)\n",
    "    y_test=df_test[['target']].copy(deep=True)\n",
    "    y_test['target']=np.log(df_test_['target'].values)\n",
    "    \n",
    "    kfold_list.append([X_train, y_train, X_test, y_test])"
   ]
  },
  {
   "cell_type": "code",
   "execution_count": 16,
   "metadata": {},
   "outputs": [],
   "source": [
    "del kfold_list_"
   ]
  },
  {
   "cell_type": "markdown",
   "metadata": {},
   "source": [
    "### hyperopt setup"
   ]
  },
  {
   "cell_type": "code",
   "execution_count": 17,
   "metadata": {},
   "outputs": [],
   "source": [
    "import lightgbm as lgb"
   ]
  },
  {
   "cell_type": "code",
   "execution_count": 18,
   "metadata": {},
   "outputs": [],
   "source": [
    "from hyperopt import hp\n",
    "from hyperopt import fmin, tpe, hp, STATUS_OK, Trials, anneal, rand"
   ]
  },
  {
   "cell_type": "code",
   "execution_count": 19,
   "metadata": {},
   "outputs": [],
   "source": [
    "from hyperopt import hp\n",
    "import numpy as np\n",
    "\n",
    "search_space = { \n",
    "                 'num_boost_round': hp.choice('num_boost_round',list(range(300, 1201, 1))),\n",
    "                 'boosting':hp.choice('boosting', ['gbdt']),\n",
    "                 'objective':hp.choice('objective', ['regression_l2'] ),#,'regression_l1'\n",
    "                 'metric':hp.choice('metric', ['mae']),\n",
    "                 'max_leaves': hp.choice('max_leaves', range(20, 301, 5)),#int\n",
    "                 'learning_rate':  hp.choice('learning_rate', np.round(np.arange(0.01, 0.75, 0.01),3)), \n",
    "                 'feature_fraction': hp.choice('feature_fraction', np.round(np.arange(0.45, 0.86, 0.01),3)), \n",
    "                 #learning control parameters: https://lightgbm.readthedocs.io/en/latest/Parameters.html#metric-parameters\n",
    "                 'max_depth': hp.choice('max_depth', range(9, 24, 1)), #int type\n",
    "                 'min_data_in_leaf': hp.choice('min_data_in_leaf',range(20, 301, 1)), #int type\n",
    "                 'lambda_l1':hp.choice('lambda_l1', range(5, 15, 1)),#reg_alpha\n",
    "                 'lambda_l2':hp.choice('lambda_l2', range(5, 15, 1)),#reg_lambda\n",
    "                 'max_bin':hp.choice('max_bin', range(30, 350, 5)),#'max_bin':hp.quniform('max_bin', 100, 500, 50),#int\n",
    "                 'min_data_in_bin':hp.choice('min_data_in_bin', range(10, 100, 1)),\n",
    "                 #'min_split_gain':hp.choice('min_split_gain', np.round(np.arange(0.0005, 0.01, 0.0001),5)),\n",
    "                 'bagging_fraction':hp.choice('bagging_fraction', np.round(np.arange(0.5, 0.86, 0.01),3)), \n",
    "                 'bagging_freq':hp.choice('bagging_freq', range(15, 101, 1)),# int\n",
    "                 #'min_child_weight':hp.choice('min_child_weight', range(300, 1000, 5))# int\n",
    "                  }"
   ]
  },
  {
   "cell_type": "code",
   "execution_count": 20,
   "metadata": {},
   "outputs": [],
   "source": [
    "def make_lgb_preds(X_train, y_train,X_test, num_round=100, params={}, verbose=False):\n",
    "    \n",
    "    dtrain = lgb.Dataset(X_train, y_train)\n",
    "    tree_model = lgb.train(params,\n",
    "                dtrain,\n",
    "                num_boost_round=num_round,\n",
    "                verbose_eval=verbose)\n",
    "    \n",
    "    y_preds = tree_model.predict(X_test, num_iteration=tree_model.best_iteration)\n",
    "    scores = tree_model.feature_importance(importance_type='gain', iteration=tree_model.best_iteration)\n",
    "    df_scores = pd.DataFrame({'feature':list(X_train.columns), 'gain': list(scores)})\n",
    "\n",
    "    return y_preds, df_scores, tree_model"
   ]
  },
  {
   "cell_type": "code",
   "execution_count": 21,
   "metadata": {},
   "outputs": [],
   "source": [
    "from sklearn.metrics import mean_squared_error\n",
    "def score(params):\n",
    "   \n",
    "    num_boost_round = params['num_boost_round']\n",
    "    \n",
    "    if params in all_params:\n",
    "        return {'loss': 99999, 'status': STATUS_OK}\n",
    "    \n",
    "    all_params.append(copy.deepcopy(params))\n",
    "    \n",
    "    del params['num_boost_round']\n",
    "    params['verbose']=-1\n",
    "    \n",
    "    i = len(all_params)\n",
    "    pred_list = []\n",
    "    \n",
    "    for j, (X_train, y_train, X_test, y_test) in enumerate(kfold_list):\n",
    "        y_preds, df_scores, i_model = make_lgb_preds(X_train, y_train, X_test, params=params,\n",
    "                                                       num_round=num_boost_round,  verbose=False)\n",
    "        df_pred = y_test.copy(deep=True)\n",
    "        df_pred['pred'] = y_preds\n",
    "        df_pred['fold'] = j+1\n",
    "        pred_list.append(df_pred)\n",
    "        \n",
    "    df_pred_all = pd.concat(pred_list, axis=0)\n",
    "   \n",
    "    loss = mean_squared_error(df_pred_all['target'], df_pred_all['pred'])\n",
    "    loss = np.round(loss, 3)\n",
    "    \n",
    "    \n",
    "    item = [i, all_params[i-1],  -loss] \n",
    "    all_metrics.append(item)\n",
    "    df_pred_all.to_csv(save_dir.joinpath('kfold_'+str(i)), sep='|', index=True, compression='bz2')\n",
    "    \n",
    "    \n",
    "    i = i + 1\n",
    "    \n",
    "    if i%10==0:\n",
    "        save_metric(all_metrics, save_dir.parent, trial_folder+'.xlsx')\n",
    "        joblib.dump(trials, save_dir.parent.joinpath(trial_folder+'.pkl'))\n",
    "    \n",
    "    return {'loss': loss, 'status': STATUS_OK}\n",
    "\n"
   ]
  },
  {
   "cell_type": "code",
   "execution_count": 22,
   "metadata": {},
   "outputs": [],
   "source": [
    "def save_metric(metric_list, trials_dir, file_name):\n",
    "    df_params = pd.DataFrame(data = metric_list, columns = ['trial_id', 'params',  'metric'])\n",
    "    df_params.index.name='row_nr'\n",
    "    df_params.to_excel(trials_dir.joinpath(file_name))"
   ]
  },
  {
   "cell_type": "code",
   "execution_count": 23,
   "metadata": {},
   "outputs": [],
   "source": [
    "from functools import partial\n",
    "def optimize(space, evals, cores, trials, optimizer=tpe.suggest, random_state=1234, n_startup_jobs=50):\n",
    "    space['nthread']= cores\n",
    "    space['seed']= random_state\n",
    "    algo = partial(optimizer, n_startup_jobs=n_startup_jobs)\n",
    "    best = fmin(score, space, algo=algo, max_evals=evals, trials = trials)\n",
    "    print(best)\n",
    "    return best"
   ]
  },
  {
   "cell_type": "markdown",
   "metadata": {},
   "source": [
    "## training"
   ]
  },
  {
   "cell_type": "code",
   "execution_count": 24,
   "metadata": {},
   "outputs": [
    {
     "data": {
      "text/plain": [
       "(True, True)"
      ]
     },
     "execution_count": 24,
     "metadata": {},
     "output_type": "execute_result"
    }
   ],
   "source": [
    "trial_folder = '10features_highcorr'\n",
    "trials_dir = Path(f'../../trials')\n",
    "save_dir = Path(f'../../trials/{trial_folder}')\n",
    "save_dir.exists(), trials_dir.exists()"
   ]
  },
  {
   "cell_type": "code",
   "execution_count": 25,
   "metadata": {},
   "outputs": [],
   "source": [
    "n_trials = 8000\n",
    "n_random_trials = 2500"
   ]
  },
  {
   "cell_type": "code",
   "execution_count": 26,
   "metadata": {},
   "outputs": [],
   "source": [
    "cores = 4\n",
    "n=n_trials\n",
    "verbose = False"
   ]
  },
  {
   "cell_type": "code",
   "execution_count": 27,
   "metadata": {},
   "outputs": [],
   "source": [
    "all_metrics = []\n",
    "all_params = []\n",
    "trials = Trials()"
   ]
  },
  {
   "cell_type": "code",
   "execution_count": 28,
   "metadata": {},
   "outputs": [
    {
     "name": "stdout",
     "output_type": "stream",
     "text": [
      "100%|██████████████████████████████████████████████████████| 8000/8000 [17:56:44<00:00,  8.08s/trial, best loss: 0.057]\n",
      "{'bagging_fraction': 3, 'bagging_freq': 27, 'boosting': 0, 'feature_fraction': 35, 'lambda_l1': 2, 'lambda_l2': 2, 'learning_rate': 1, 'max_bin': 11, 'max_depth': 3, 'max_leaves': 37, 'metric': 0, 'min_data_in_bin': 38, 'min_data_in_leaf': 15, 'num_boost_round': 385, 'objective': 0}\n"
     ]
    }
   ],
   "source": [
    "best_param = optimize(search_space,\n",
    "                      evals = n,\n",
    "                      optimizer=tpe.suggest,\n",
    "                      cores = cores,\n",
    "                      trials = trials, random_state=1234, \n",
    "                      n_startup_jobs=n_random_trials)"
   ]
  }
 ],
 "metadata": {
  "kernelspec": {
   "display_name": "Python 3",
   "language": "python",
   "name": "python3"
  },
  "language_info": {
   "codemirror_mode": {
    "name": "ipython",
    "version": 3
   },
   "file_extension": ".py",
   "mimetype": "text/x-python",
   "name": "python",
   "nbconvert_exporter": "python",
   "pygments_lexer": "ipython3",
   "version": "3.6.8"
  }
 },
 "nbformat": 4,
 "nbformat_minor": 4
}
