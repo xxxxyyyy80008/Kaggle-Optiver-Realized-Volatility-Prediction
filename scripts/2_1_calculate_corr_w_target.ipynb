{
 "cells": [
  {
   "cell_type": "code",
   "execution_count": 1,
   "id": "6cd45b98",
   "metadata": {},
   "outputs": [],
   "source": [
    "import pandas as pd\n",
    "import numpy as np\n",
    "import os\n",
    "from datetime import date, datetime, timedelta\n",
    "from pathlib import Path\n",
    "\n",
    "import copy\n",
    "import pyarrow.parquet as pq"
   ]
  },
  {
   "cell_type": "code",
   "execution_count": 2,
   "id": "a7ca4bf3",
   "metadata": {},
   "outputs": [
    {
     "data": {
      "text/plain": [
       "True"
      ]
     },
     "execution_count": 2,
     "metadata": {},
     "output_type": "execute_result"
    }
   ],
   "source": [
    "data_path = Path('../data')\n",
    "data_path.exists()"
   ]
  },
  {
   "cell_type": "code",
   "execution_count": null,
   "id": "ea3fbc11",
   "metadata": {},
   "outputs": [],
   "source": [
    "df_train = pd.read_csv('../data/train.csv')"
   ]
  },
  {
   "cell_type": "markdown",
   "id": "81dc1a01",
   "metadata": {},
   "source": [
    "<h3> concatenate book data for train and test</h3>"
   ]
  },
  {
   "cell_type": "code",
   "execution_count": null,
   "id": "3b689362",
   "metadata": {},
   "outputs": [],
   "source": [
    "src_folder = 'z_1'"
   ]
  },
  {
   "cell_type": "code",
   "execution_count": null,
   "id": "b60f088d",
   "metadata": {},
   "outputs": [],
   "source": [
    "stock_list = df_train['stock_id'].unique().tolist()\n",
    "print(len(stock_list), stock_list[:2])"
   ]
  },
  {
   "cell_type": "code",
   "execution_count": null,
   "id": "6233b5c5",
   "metadata": {},
   "outputs": [],
   "source": [
    "corr_list = []\n",
    "\n",
    "for stock_id in stock_list:\n",
    "    df_target = df_train[df_train['stock_id']==stock_id].copy(deep=True)\n",
    "    file_loc = data_path.joinpath(f'{src_folder}/{stock_id}')\n",
    "    df = pd.read_csv(file_loc, sep='|', compression='bz2', index_col=0)\n",
    "    \n",
    "    df=df.merge(df_target, on=['stock_id', 'time_id'], how='inner')\n",
    "    df['target_log']=np.log(df['target'])\n",
    "    df_corr=df.corr()[['target', 'target_log']].abs()\n",
    "    df_corr.drop(index=['stock_id', 'target', 'time_id', 'target_log'], inplace=True)\n",
    "    df_corr.columns=[f'stock={stock_id}', f'stock_log={stock_id}']\n",
    "    \n",
    "    corr_list.append(df_corr)"
   ]
  },
  {
   "cell_type": "code",
   "execution_count": null,
   "id": "a9d8fd97",
   "metadata": {},
   "outputs": [],
   "source": [
    "df_all = pd.concat(corr_list, axis=1, join='inner') \n",
    "df_all.index.name='feature'"
   ]
  },
  {
   "cell_type": "code",
   "execution_count": null,
   "id": "63516fa5",
   "metadata": {},
   "outputs": [],
   "source": [
    "df_all.abs().to_excel('../data/y_1/feature_importance_book.xlsx', index=True)"
   ]
  },
  {
   "cell_type": "markdown",
   "id": "6914b877",
   "metadata": {},
   "source": [
    "### trade data features"
   ]
  },
  {
   "cell_type": "code",
   "execution_count": null,
   "id": "685e9f1f",
   "metadata": {},
   "outputs": [],
   "source": [
    "src_folder ='z_2' #'z_1'"
   ]
  },
  {
   "cell_type": "code",
   "execution_count": null,
   "id": "3b2f3b36",
   "metadata": {},
   "outputs": [],
   "source": [
    "stock_list = df_train['stock_id'].unique().tolist()\n",
    "print(len(stock_list), stock_list[:2])"
   ]
  },
  {
   "cell_type": "code",
   "execution_count": null,
   "id": "747a11a3",
   "metadata": {},
   "outputs": [],
   "source": [
    "corr_list = []\n",
    "\n",
    "for stock_id in stock_list:\n",
    "    df_target = df_train[df_train['stock_id']==stock_id].copy(deep=True)\n",
    "    file_loc = data_path.joinpath(f'{src_folder}/{stock_id}')\n",
    "    df = pd.read_csv(file_loc, sep='|', compression='bz2', index_col=0)\n",
    "    \n",
    "    df=df.merge(df_target, on=['stock_id', 'time_id'], how='inner')\n",
    "    df['target_log']=np.log(df['target'])\n",
    "    df_corr=df.corr()[['target', 'target_log']].abs()\n",
    "    df_corr.drop(index=['stock_id', 'target', 'time_id', 'target_log'], inplace=True)\n",
    "    df_corr.columns=[f'stock={stock_id}', f'stock_log={stock_id}']\n",
    "    \n",
    "    corr_list.append(df_corr)"
   ]
  },
  {
   "cell_type": "code",
   "execution_count": null,
   "id": "f0357d64",
   "metadata": {},
   "outputs": [],
   "source": [
    "df_all = pd.concat(corr_list, axis=1, join='inner') \n",
    "df_all.index.name='feature'"
   ]
  },
  {
   "cell_type": "code",
   "execution_count": null,
   "id": "3a8ad4f0",
   "metadata": {},
   "outputs": [],
   "source": [
    "df_all.abs().to_excel('../data/y_1/feature_importance_trade.xlsx', index=True)"
   ]
  },
  {
   "cell_type": "markdown",
   "id": "56e14f0e",
   "metadata": {},
   "source": [
    "## combine"
   ]
  },
  {
   "cell_type": "code",
   "execution_count": 10,
   "id": "129a80b3",
   "metadata": {},
   "outputs": [],
   "source": [
    "df_1=pd.read_excel('../data/y_1/feature_importance_book.xlsx', engine='openpyxl', index_col=0).abs()\n",
    "df_2=pd.read_excel('../data/y_1/feature_importance_trade.xlsx', engine='openpyxl', index_col=0).abs()"
   ]
  },
  {
   "cell_type": "code",
   "execution_count": 11,
   "id": "9c7eeb1b",
   "metadata": {},
   "outputs": [],
   "source": [
    "df_1['folder']='z_1'\n",
    "df_2['folder']='z_2'"
   ]
  },
  {
   "cell_type": "code",
   "execution_count": 12,
   "id": "1e536ed6",
   "metadata": {},
   "outputs": [
    {
     "data": {
      "text/plain": [
       "((808, 225), (818, 225))"
      ]
     },
     "execution_count": 12,
     "metadata": {},
     "output_type": "execute_result"
    }
   ],
   "source": [
    "df_1.shape, df_2.shape"
   ]
  },
  {
   "cell_type": "code",
   "execution_count": 13,
   "id": "b1341d7d",
   "metadata": {},
   "outputs": [
    {
     "data": {
      "text/plain": [
       "set()"
      ]
     },
     "execution_count": 13,
     "metadata": {},
     "output_type": "execute_result"
    }
   ],
   "source": [
    "set(df_1.columns.tolist())-set(df_2.columns.tolist())"
   ]
  },
  {
   "cell_type": "code",
   "execution_count": 14,
   "id": "36c45f6f",
   "metadata": {},
   "outputs": [],
   "source": [
    "df_1[df_2.columns.tolist()].append(df_2).to_excel('../data/y_1/feature_importance_all.xlsx', index=True)"
   ]
  },
  {
   "cell_type": "code",
   "execution_count": null,
   "id": "df9c7660",
   "metadata": {},
   "outputs": [],
   "source": []
  }
 ],
 "metadata": {
  "kernelspec": {
   "display_name": "Python 3",
   "language": "python",
   "name": "python3"
  },
  "language_info": {
   "codemirror_mode": {
    "name": "ipython",
    "version": 3
   },
   "file_extension": ".py",
   "mimetype": "text/x-python",
   "name": "python",
   "nbconvert_exporter": "python",
   "pygments_lexer": "ipython3",
   "version": "3.6.8"
  }
 },
 "nbformat": 4,
 "nbformat_minor": 5
}
