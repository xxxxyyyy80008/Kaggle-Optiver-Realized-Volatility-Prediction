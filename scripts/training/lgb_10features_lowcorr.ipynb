{
 "cells": [
  {
   "cell_type": "code",
   "execution_count": 1,
   "metadata": {},
   "outputs": [],
   "source": [
    "import sys\n",
    "import os\n",
    "from pathlib import Path\n",
    "\n",
    "\n",
    "import numpy as np\n",
    "import pandas as pd\n",
    "import json\n",
    "import copy\n",
    "import joblib\n",
    "from datetime import datetime, date, timedelta\n",
    "import random as rn"
   ]
  },
  {
   "cell_type": "code",
   "execution_count": 2,
   "metadata": {},
   "outputs": [],
   "source": [
    "seed = 1234\n",
    "np.random.seed(seed)\n",
    "rn.seed(seed)"
   ]
  },
  {
   "cell_type": "markdown",
   "metadata": {},
   "source": [
    "## load data"
   ]
  },
  {
   "cell_type": "code",
   "execution_count": 3,
   "metadata": {},
   "outputs": [],
   "source": [
    "df_all = pd.read_csv('../../data/y_1/10features_lowcorr', sep='|', compression='bz2')"
   ]
  },
  {
   "cell_type": "code",
   "execution_count": 4,
   "metadata": {},
   "outputs": [],
   "source": [
    "from train_setup import *"
   ]
  },
  {
   "cell_type": "code",
   "execution_count": 5,
   "metadata": {},
   "outputs": [
    {
     "data": {
      "text/plain": [
       "3830"
      ]
     },
     "execution_count": 5,
     "metadata": {},
     "output_type": "execute_result"
    }
   ],
   "source": [
    "time_list = df_all['time_id'].unique().tolist()\n",
    "len(time_list)"
   ]
  },
  {
   "cell_type": "code",
   "execution_count": 6,
   "metadata": {},
   "outputs": [
    {
     "data": {
      "text/plain": [
       "(2681, 1149)"
      ]
     },
     "execution_count": 6,
     "metadata": {},
     "output_type": "execute_result"
    }
   ],
   "source": [
    "all_train = list(set(time_list) - set(all_test))\n",
    "len(all_train), len(all_test)"
   ]
  },
  {
   "cell_type": "code",
   "execution_count": 7,
   "metadata": {},
   "outputs": [],
   "source": [
    "k1_train = list(set(all_train)-set(k1_test))\n",
    "k2_train = list(set(all_train)-set(k2_test))\n",
    "k3_train = list(set(all_train)-set(k3_test))"
   ]
  },
  {
   "cell_type": "code",
   "execution_count": 8,
   "metadata": {},
   "outputs": [
    {
     "data": {
      "text/plain": [
       "(1786, 895)"
      ]
     },
     "execution_count": 8,
     "metadata": {},
     "output_type": "execute_result"
    }
   ],
   "source": [
    "len(k1_train), len(k1_test)"
   ]
  },
  {
   "cell_type": "code",
   "execution_count": 9,
   "metadata": {},
   "outputs": [
    {
     "data": {
      "text/plain": [
       "(1786, 895)"
      ]
     },
     "execution_count": 9,
     "metadata": {},
     "output_type": "execute_result"
    }
   ],
   "source": [
    "len(k2_train), len(k2_test)"
   ]
  },
  {
   "cell_type": "code",
   "execution_count": 10,
   "metadata": {},
   "outputs": [
    {
     "data": {
      "text/plain": [
       "(1790, 891)"
      ]
     },
     "execution_count": 10,
     "metadata": {},
     "output_type": "execute_result"
    }
   ],
   "source": [
    "len(k3_train), len(k3_test)"
   ]
  },
  {
   "cell_type": "code",
   "execution_count": 11,
   "metadata": {},
   "outputs": [
    {
     "data": {
      "text/plain": [
       "(1149, 2681)"
      ]
     },
     "execution_count": 11,
     "metadata": {},
     "output_type": "execute_result"
    }
   ],
   "source": [
    "len(all_test), len(all_train)"
   ]
  },
  {
   "cell_type": "code",
   "execution_count": 12,
   "metadata": {},
   "outputs": [
    {
     "data": {
      "text/html": [
       "<div>\n",
       "<style scoped>\n",
       "    .dataframe tbody tr th:only-of-type {\n",
       "        vertical-align: middle;\n",
       "    }\n",
       "\n",
       "    .dataframe tbody tr th {\n",
       "        vertical-align: top;\n",
       "    }\n",
       "\n",
       "    .dataframe thead th {\n",
       "        text-align: right;\n",
       "    }\n",
       "</style>\n",
       "<table border=\"1\" class=\"dataframe\">\n",
       "  <thead>\n",
       "    <tr style=\"text-align: right;\">\n",
       "      <th></th>\n",
       "      <th>stock_id</th>\n",
       "      <th>time_id</th>\n",
       "      <th>target</th>\n",
       "      <th>feat2</th>\n",
       "      <th>feat4</th>\n",
       "      <th>feat3</th>\n",
       "      <th>feat1</th>\n",
       "      <th>feat5</th>\n",
       "      <th>feat7</th>\n",
       "      <th>feat6</th>\n",
       "      <th>feat10</th>\n",
       "      <th>feat9</th>\n",
       "      <th>feat8</th>\n",
       "    </tr>\n",
       "  </thead>\n",
       "  <tbody>\n",
       "    <tr>\n",
       "      <th>0</th>\n",
       "      <td>2</td>\n",
       "      <td>5</td>\n",
       "      <td>0.001848</td>\n",
       "      <td>19.433948</td>\n",
       "      <td>2.068171e-07</td>\n",
       "      <td>6.124289e-07</td>\n",
       "      <td>0.026476</td>\n",
       "      <td>3.283864e-09</td>\n",
       "      <td>0.000078</td>\n",
       "      <td>0.000540</td>\n",
       "      <td>0.012274</td>\n",
       "      <td>4.732456e-09</td>\n",
       "      <td>0.000067</td>\n",
       "    </tr>\n",
       "    <tr>\n",
       "      <th>1</th>\n",
       "      <td>2</td>\n",
       "      <td>11</td>\n",
       "      <td>0.000806</td>\n",
       "      <td>4.036183</td>\n",
       "      <td>9.034261e-08</td>\n",
       "      <td>4.276654e-08</td>\n",
       "      <td>0.007500</td>\n",
       "      <td>9.932652e-10</td>\n",
       "      <td>0.000055</td>\n",
       "      <td>0.000318</td>\n",
       "      <td>0.004209</td>\n",
       "      <td>2.665741e-09</td>\n",
       "      <td>0.000033</td>\n",
       "    </tr>\n",
       "    <tr>\n",
       "      <th>2</th>\n",
       "      <td>2</td>\n",
       "      <td>16</td>\n",
       "      <td>0.001581</td>\n",
       "      <td>7.978920</td>\n",
       "      <td>6.034861e-08</td>\n",
       "      <td>2.112550e-07</td>\n",
       "      <td>0.017568</td>\n",
       "      <td>1.538481e-09</td>\n",
       "      <td>0.000074</td>\n",
       "      <td>0.000241</td>\n",
       "      <td>0.006991</td>\n",
       "      <td>6.769070e-09</td>\n",
       "      <td>0.000045</td>\n",
       "    </tr>\n",
       "    <tr>\n",
       "      <th>3</th>\n",
       "      <td>2</td>\n",
       "      <td>31</td>\n",
       "      <td>0.001599</td>\n",
       "      <td>7.652534</td>\n",
       "      <td>3.253445e-07</td>\n",
       "      <td>5.043194e-07</td>\n",
       "      <td>0.020741</td>\n",
       "      <td>3.367847e-09</td>\n",
       "      <td>0.000112</td>\n",
       "      <td>0.000503</td>\n",
       "      <td>0.008758</td>\n",
       "      <td>9.057540e-09</td>\n",
       "      <td>0.000086</td>\n",
       "    </tr>\n",
       "    <tr>\n",
       "      <th>4</th>\n",
       "      <td>2</td>\n",
       "      <td>62</td>\n",
       "      <td>0.001503</td>\n",
       "      <td>4.301840</td>\n",
       "      <td>5.009569e-08</td>\n",
       "      <td>4.414116e-07</td>\n",
       "      <td>0.012789</td>\n",
       "      <td>2.788295e-09</td>\n",
       "      <td>0.000085</td>\n",
       "      <td>0.000294</td>\n",
       "      <td>0.003996</td>\n",
       "      <td>5.702881e-09</td>\n",
       "      <td>0.000049</td>\n",
       "    </tr>\n",
       "  </tbody>\n",
       "</table>\n",
       "</div>"
      ],
      "text/plain": [
       "   stock_id  time_id    target      feat2         feat4         feat3  \\\n",
       "0         2        5  0.001848  19.433948  2.068171e-07  6.124289e-07   \n",
       "1         2       11  0.000806   4.036183  9.034261e-08  4.276654e-08   \n",
       "2         2       16  0.001581   7.978920  6.034861e-08  2.112550e-07   \n",
       "3         2       31  0.001599   7.652534  3.253445e-07  5.043194e-07   \n",
       "4         2       62  0.001503   4.301840  5.009569e-08  4.414116e-07   \n",
       "\n",
       "      feat1         feat5     feat7     feat6    feat10         feat9  \\\n",
       "0  0.026476  3.283864e-09  0.000078  0.000540  0.012274  4.732456e-09   \n",
       "1  0.007500  9.932652e-10  0.000055  0.000318  0.004209  2.665741e-09   \n",
       "2  0.017568  1.538481e-09  0.000074  0.000241  0.006991  6.769070e-09   \n",
       "3  0.020741  3.367847e-09  0.000112  0.000503  0.008758  9.057540e-09   \n",
       "4  0.012789  2.788295e-09  0.000085  0.000294  0.003996  5.702881e-09   \n",
       "\n",
       "      feat8  \n",
       "0  0.000067  \n",
       "1  0.000033  \n",
       "2  0.000045  \n",
       "3  0.000086  \n",
       "4  0.000049  "
      ]
     },
     "execution_count": 12,
     "metadata": {},
     "output_type": "execute_result"
    }
   ],
   "source": [
    "rename_map = {}\n",
    "for i, col in enumerate(final_feats):\n",
    "    rename_map[col]=f'feat{i+1}'\n",
    "    \n",
    "df_all.rename(columns=rename_map, inplace=True)\n",
    "df_all.head()"
   ]
  },
  {
   "cell_type": "code",
   "execution_count": 13,
   "metadata": {},
   "outputs": [],
   "source": [
    "kfold_list_ = [[df_all[df_all['time_id'].isin(k1_train)], df_all[df_all['time_id'].isin(k1_test)], ], \n",
    "              [df_all[df_all['time_id'].isin(k2_train)], df_all[df_all['time_id'].isin(k2_test)], ], \n",
    "              [df_all[df_all['time_id'].isin(k3_train)], df_all[df_all['time_id'].isin(k3_test)], ], \n",
    "             ]"
   ]
  },
  {
   "cell_type": "code",
   "execution_count": 14,
   "metadata": {},
   "outputs": [],
   "source": [
    "features = ['feat1', 'feat2', 'feat3', 'feat4', 'feat5', 'feat6', 'feat7', 'feat8', 'feat9', 'feat10']"
   ]
  },
  {
   "cell_type": "code",
   "execution_count": 15,
   "metadata": {},
   "outputs": [
    {
     "name": "stdout",
     "output_type": "stream",
     "text": [
      "(41071, 13) (20584, 13)\n",
      "(41073, 13) (20582, 13)\n",
      "(41166, 13) (20489, 13)\n"
     ]
    }
   ],
   "source": [
    "scaler=5\n",
    "kfold_list = []\n",
    "for df_train_, df_test_ in kfold_list_:\n",
    "    print(df_train_.shape, df_test_.shape)\n",
    "    df_train = df_train_.copy(deep=True)\n",
    "    df_test = df_test_.copy(deep=True)\n",
    "    \n",
    "    df_train.set_index(keys=['stock_id', 'time_id'], inplace=True)\n",
    "    df_test.set_index(keys=['stock_id', 'time_id'], inplace=True)\n",
    " \n",
    "\n",
    "    for i in range(1, len(final_feats)+1):\n",
    "        col=f'feat{i}'\n",
    "\n",
    "        avg = df_train[col].mean()\n",
    "        std = df_train[col].std()\n",
    "        df_train[df_train[col]>avg+scaler*std] = avg+scaler*std\n",
    "        df_train[df_train[col]<avg-scaler*std] = avg-scaler*std\n",
    "        df_test[df_test[col]>avg+scaler*std] = avg+scaler*std\n",
    "        df_test[df_test[col]<avg-scaler*std] = avg-scaler*std\n",
    "        \n",
    "        \n",
    "    X_train=df_train[features].copy(deep=True)\n",
    "    y_train = df_train[['target']].copy(deep=True)\n",
    "    y_train['target']=np.log(df_train_['target'].values)\n",
    "    \n",
    "    X_test=df_test[features].copy(deep=True)\n",
    "    y_test=df_test[['target']].copy(deep=True)\n",
    "    y_test['target']=np.log(df_test_['target'].values)\n",
    "    \n",
    "    kfold_list.append([X_train, y_train, X_test, y_test])"
   ]
  },
  {
   "cell_type": "code",
   "execution_count": 16,
   "metadata": {},
   "outputs": [],
   "source": [
    "del kfold_list_"
   ]
  },
  {
   "cell_type": "markdown",
   "metadata": {},
   "source": [
    "### hyperopt setup"
   ]
  },
  {
   "cell_type": "code",
   "execution_count": 17,
   "metadata": {},
   "outputs": [],
   "source": [
    "import lightgbm as lgb"
   ]
  },
  {
   "cell_type": "code",
   "execution_count": 18,
   "metadata": {},
   "outputs": [],
   "source": [
    "from hyperopt import hp\n",
    "from hyperopt import fmin, tpe, hp, STATUS_OK, Trials, anneal, rand"
   ]
  },
  {
   "cell_type": "code",
   "execution_count": 19,
   "metadata": {},
   "outputs": [],
   "source": [
    "from hyperopt import hp\n",
    "import numpy as np\n",
    "\n",
    "search_space = { \n",
    "                 'num_boost_round': hp.choice('num_boost_round',list(range(300, 1201, 1))),\n",
    "                 'boosting':hp.choice('boosting', ['gbdt']),\n",
    "                 'objective':hp.choice('objective', ['regression_l2'] ),#,'regression_l1'\n",
    "                 'metric':hp.choice('metric', ['mae']),\n",
    "                 'max_leaves': hp.choice('max_leaves', range(20, 301, 5)),#int\n",
    "                 'learning_rate':  hp.choice('learning_rate', np.round(np.arange(0.01, 0.75, 0.01),3)), \n",
    "                 'feature_fraction': hp.choice('feature_fraction', np.round(np.arange(0.45, 0.86, 0.01),3)), \n",
    "                 #learning control parameters: https://lightgbm.readthedocs.io/en/latest/Parameters.html#metric-parameters\n",
    "                 'max_depth': hp.choice('max_depth', range(9, 24, 1)), #int type\n",
    "                 'min_data_in_leaf': hp.choice('min_data_in_leaf',range(20, 301, 1)), #int type\n",
    "                 'lambda_l1':hp.choice('lambda_l1', range(5, 15, 1)),#reg_alpha\n",
    "                 'lambda_l2':hp.choice('lambda_l2', range(5, 15, 1)),#reg_lambda\n",
    "                 'max_bin':hp.choice('max_bin', range(30, 350, 5)),#'max_bin':hp.quniform('max_bin', 100, 500, 50),#int\n",
    "                 'min_data_in_bin':hp.choice('min_data_in_bin', range(10, 100, 1)),\n",
    "                 #'min_split_gain':hp.choice('min_split_gain', np.round(np.arange(0.0005, 0.01, 0.0001),5)),\n",
    "                 'bagging_fraction':hp.choice('bagging_fraction', np.round(np.arange(0.5, 0.86, 0.01),3)), \n",
    "                 'bagging_freq':hp.choice('bagging_freq', range(15, 101, 1)),# int\n",
    "                 #'min_child_weight':hp.choice('min_child_weight', range(300, 1000, 5))# int\n",
    "                  }"
   ]
  },
  {
   "cell_type": "code",
   "execution_count": 20,
   "metadata": {},
   "outputs": [],
   "source": [
    "def make_lgb_preds(X_train, y_train,X_test, num_round=100, params={}, verbose=False):\n",
    "    \n",
    "    dtrain = lgb.Dataset(X_train, y_train)\n",
    "    tree_model = lgb.train(params,\n",
    "                dtrain,\n",
    "                num_boost_round=num_round,\n",
    "                verbose_eval=verbose)\n",
    "    \n",
    "    y_preds = tree_model.predict(X_test, num_iteration=tree_model.best_iteration)\n",
    "    scores = tree_model.feature_importance(importance_type='gain', iteration=tree_model.best_iteration)\n",
    "    df_scores = pd.DataFrame({'feature':list(X_train.columns), 'gain': list(scores)})\n",
    "\n",
    "    return y_preds, df_scores, tree_model"
   ]
  },
  {
   "cell_type": "code",
   "execution_count": 29,
   "metadata": {},
   "outputs": [],
   "source": [
    "from sklearn.metrics import mean_squared_error\n",
    "def score(params):\n",
    "   \n",
    "    num_boost_round = params['num_boost_round']\n",
    "    \n",
    "    if params in all_params:\n",
    "        return {'loss': 99999, 'status': STATUS_OK}\n",
    "    \n",
    "    all_params.append(copy.deepcopy(params))\n",
    "    \n",
    "    del params['num_boost_round']\n",
    "    params['verbose']=-1\n",
    "    \n",
    "    i = len(all_params)\n",
    "    pred_list = []\n",
    "    \n",
    "    for j, (X_train, y_train, X_test, y_test) in enumerate(kfold_list):\n",
    "        y_preds, df_scores, i_model = make_lgb_preds(X_train, y_train, X_test, params=params,\n",
    "                                                       num_round=num_boost_round,  verbose=False)\n",
    "        df_pred = y_test.copy(deep=True)\n",
    "        df_pred['pred'] = y_preds\n",
    "        df_pred['fold'] = j+1\n",
    "        pred_list.append(df_pred)\n",
    "        \n",
    "    df_pred_all = pd.concat(pred_list, axis=0)\n",
    "   \n",
    "    loss = mean_squared_error(df_pred_all['target'], df_pred_all['pred'])\n",
    "    loss = np.round(loss, 3)\n",
    "    \n",
    "    \n",
    "    item = [i, all_params[i-1],  -loss] \n",
    "    all_metrics.append(item)\n",
    "    df_pred_all.to_csv(save_dir.joinpath('kfold_'+str(i)), sep='|', index=True, compression='bz2')\n",
    "    \n",
    "    \n",
    "    i = i + 1\n",
    "    \n",
    "    if i%10==0:\n",
    "        save_metric(all_metrics, save_dir.parent, trial_folder+'.xlsx')\n",
    "        joblib.dump(trials, save_dir.parent.joinpath(trial_folder+'.pkl'))\n",
    "    \n",
    "    return {'loss': loss, 'status': STATUS_OK}\n",
    "\n"
   ]
  },
  {
   "cell_type": "code",
   "execution_count": 30,
   "metadata": {},
   "outputs": [],
   "source": [
    "def save_metric(metric_list, trials_dir, file_name):\n",
    "    df_params = pd.DataFrame(data = metric_list, columns = ['trial_id', 'params',  'metric'])\n",
    "    df_params.index.name='row_nr'\n",
    "    df_params.to_excel(trials_dir.joinpath(file_name))"
   ]
  },
  {
   "cell_type": "code",
   "execution_count": 31,
   "metadata": {},
   "outputs": [],
   "source": [
    "from functools import partial\n",
    "def optimize(space, evals, cores, trials, optimizer=tpe.suggest, random_state=1234, n_startup_jobs=50):\n",
    "    space['nthread']= cores\n",
    "    space['seed']= random_state\n",
    "    algo = partial(optimizer, n_startup_jobs=n_startup_jobs)\n",
    "    best = fmin(score, space, algo=algo, max_evals=evals, trials = trials)\n",
    "    print(best)\n",
    "    return best"
   ]
  },
  {
   "cell_type": "markdown",
   "metadata": {},
   "source": [
    "## training"
   ]
  },
  {
   "cell_type": "code",
   "execution_count": 32,
   "metadata": {},
   "outputs": [
    {
     "data": {
      "text/plain": [
       "(True, True)"
      ]
     },
     "execution_count": 32,
     "metadata": {},
     "output_type": "execute_result"
    }
   ],
   "source": [
    "trial_folder = '10features_lowcorr'\n",
    "trials_dir = Path(f'../../trials')\n",
    "save_dir = Path(f'../../trials/{trial_folder}')\n",
    "save_dir.exists(), trials_dir.exists()"
   ]
  },
  {
   "cell_type": "code",
   "execution_count": 33,
   "metadata": {},
   "outputs": [],
   "source": [
    "n_trials = 8000\n",
    "n_random_trials = 2500"
   ]
  },
  {
   "cell_type": "code",
   "execution_count": 34,
   "metadata": {},
   "outputs": [],
   "source": [
    "cores = 4\n",
    "n=n_trials\n",
    "verbose = False"
   ]
  },
  {
   "cell_type": "code",
   "execution_count": 35,
   "metadata": {},
   "outputs": [],
   "source": [
    "all_metrics = []\n",
    "all_params = []\n",
    "trials = Trials()"
   ]
  },
  {
   "cell_type": "code",
   "execution_count": 36,
   "metadata": {},
   "outputs": [
    {
     "name": "stdout",
     "output_type": "stream",
     "text": [
      "100%|██████████████████████████████████████████████████████| 8000/8000 [15:52:54<00:00,  7.15s/trial, best loss: 0.068]\n",
      "{'bagging_fraction': 28, 'bagging_freq': 41, 'boosting': 0, 'feature_fraction': 24, 'lambda_l1': 1, 'lambda_l2': 1, 'learning_rate': 0, 'max_bin': 46, 'max_depth': 2, 'max_leaves': 28, 'metric': 0, 'min_data_in_bin': 63, 'min_data_in_leaf': 41, 'num_boost_round': 444, 'objective': 0}\n"
     ]
    }
   ],
   "source": [
    "best_param = optimize(search_space,\n",
    "                      evals = n,\n",
    "                      optimizer=tpe.suggest,\n",
    "                      cores = cores,\n",
    "                      trials = trials, random_state=1234, \n",
    "                      n_startup_jobs=n_random_trials)"
   ]
  },
  {
   "cell_type": "code",
   "execution_count": null,
   "metadata": {},
   "outputs": [],
   "source": []
  }
 ],
 "metadata": {
  "kernelspec": {
   "display_name": "Python 3",
   "language": "python",
   "name": "python3"
  },
  "language_info": {
   "codemirror_mode": {
    "name": "ipython",
    "version": 3
   },
   "file_extension": ".py",
   "mimetype": "text/x-python",
   "name": "python",
   "nbconvert_exporter": "python",
   "pygments_lexer": "ipython3",
   "version": "3.6.8"
  }
 },
 "nbformat": 4,
 "nbformat_minor": 4
}
